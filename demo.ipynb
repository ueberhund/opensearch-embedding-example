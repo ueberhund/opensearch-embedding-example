{
 "cells": [
  {
   "cell_type": "markdown",
   "metadata": {},
   "source": [
    "# OpenSearch demo"
   ]
  },
  {
   "cell_type": "markdown",
   "metadata": {},
   "source": [
    "Enter your region and host name below"
   ]
  },
  {
   "cell_type": "code",
   "execution_count": null,
   "metadata": {},
   "outputs": [],
   "source": [
    "#Host name should be WITHOUT https://\n",
    "\n",
    "region = 'us-east-1' \n",
    "aos_host = \"XXXXXXXXXX.us-east-1.aoss.amazonaws.com\""
   ]
  },
  {
   "cell_type": "code",
   "execution_count": null,
   "metadata": {},
   "outputs": [],
   "source": [
    "!pip install opensearch-py pandas --quiet"
   ]
  },
  {
   "cell_type": "code",
   "execution_count": null,
   "metadata": {},
   "outputs": [],
   "source": [
    "from opensearchpy import OpenSearch, RequestsHttpConnection, AWSV4SignerAuth\n",
    "import boto3\n",
    "import json\n",
    "\n",
    "credentials = boto3.Session().get_credentials()\n",
    "auth = AWSV4SignerAuth(credentials, region, service=\"aoss\")\n",
    "\n",
    "aos_client = OpenSearch(\n",
    "    hosts = [{'host': aos_host, 'port': 443}],\n",
    "    http_auth = auth,\n",
    "    use_ssl = True,\n",
    "    verify_certs = True,\n",
    "    connection_class = RequestsHttpConnection\n",
    ")"
   ]
  },
  {
   "cell_type": "code",
   "execution_count": null,
   "metadata": {},
   "outputs": [],
   "source": [
    "knn_index = {\n",
    "    \"aliases\": {},\n",
    "    \"settings\": {\n",
    "      \"index.knn\": True,\n",
    "      \"index.knn.algo_param.ef_search\": 512,\n",
    "      \"analysis\": {\n",
    "          \"analyzer\": {\n",
    "              \"default\": {\n",
    "                  \"type\": \"standard\",\n",
    "                  \"stopwords\": \"_english_\"\n",
    "              }\n",
    "          }\n",
    "      }\n",
    "    },\n",
    "    \"mappings\": {\n",
    "      \"properties\": {\n",
    "        \"title\": {\n",
    "            \"type\": \"text\",\n",
    "            \"store\": True\n",
    "        },\n",
    "        \"year\": {\n",
    "            \"type\": \"text\",\n",
    "            \"store\": True\n",
    "        },\n",
    "        \"rating\": {\n",
    "            \"type\": \"text\",\n",
    "            \"store\": True\n",
    "        },\n",
    "        \"runtime\": {\n",
    "            \"type\": \"text\",\n",
    "            \"store\": True\n",
    "        },\n",
    "        \"genres\": {\n",
    "            \"type\": \"text\",\n",
    "            \"store\": True\n",
    "        },\n",
    "        \"imdb_rating\": {\n",
    "            \"type\": \"text\",\n",
    "            \"store\": True\n",
    "        },\n",
    "        \"overview\": {\n",
    "          \"type\": \"text\",\n",
    "          \"store\": True\n",
    "        },\n",
    "        \"overview_vector\": {\n",
    "          \"type\": \"knn_vector\",\n",
    "          \"dimension\": 1536,\n",
    "          \"method\": {\n",
    "            \"engine\": \"nmslib\",\n",
    "            \"space_type\": \"cosinesimil\",\n",
    "            \"name\": \"hnsw\",\n",
    "            \"parameters\": {\n",
    "                \"ef_search\": 512\n",
    "            }\n",
    "          }\n",
    "        }\n",
    "      }\n",
    "    }\n",
    "  }"
   ]
  },
  {
   "cell_type": "code",
   "execution_count": null,
   "metadata": {},
   "outputs": [],
   "source": [
    "aos_client.indices.create(index=\"knn_demo\",body=knn_index,ignore=400)"
   ]
  },
  {
   "cell_type": "markdown",
   "metadata": {},
   "source": [
    "Load data into the index. This process will take about 9 minutes"
   ]
  },
  {
   "cell_type": "code",
   "execution_count": null,
   "metadata": {
    "scrolled": true
   },
   "outputs": [],
   "source": [
    "#Load data from a CSV file called \"imdb_top_1000.csv\"\n",
    "import csv\n",
    "import numpy as np\n",
    "\n",
    "def load_data(filename):\n",
    "    with open(filename, 'r') as f:\n",
    "        reader = csv.reader(f)\n",
    "        data = list(reader)\n",
    "    return data\n",
    "\n",
    "result = load_data(\"imdb_top_1000.csv\")\n",
    "\n",
    "#Discard the first item from result because it's a header\n",
    "del(result[0])\n",
    "\n",
    "#Create the bedrock runtime \n",
    "bedrock_runtime = boto3.client(\"bedrock-runtime\")\n",
    "\n",
    "for item in result:\n",
    "    #Create the embedding for the \"overview\" field\n",
    "    body = json.dumps({\n",
    "        \"inputText\": item[6]\n",
    "    })\n",
    "\n",
    "    result = bedrock_runtime.invoke_model(body=body, accept=\"application/json\", contentType=\"application/json\", modelId=\"amazon.titan-embed-text-v1\")\n",
    "\n",
    "    response_body = json.loads(result['body'].read())\n",
    "    embedding = response_body.get(\"embedding\")\n",
    "\n",
    "    #Load the data into OpenSearch\n",
    "    aos_client.index(index=\"knn_demo\", body={\"title\": item[0], \"year\": item[1], \"rating\": item[2], \n",
    "                                             \"runtime\": item[3], \"genres\": item[4], \"imdb_rating\": item[5],\n",
    "                                             \"overview\": item[6], \n",
    "                                             \"overview_vector\": embedding})\n"
   ]
  },
  {
   "cell_type": "code",
   "execution_count": null,
   "metadata": {},
   "outputs": [],
   "source": [
    "import pandas as pd\n",
    "\n",
    "text_query = \"A father travels across the reaches of space and time to save his family\"\n",
    "#text_query = \"Ein Workaholic-Prominenter aus New York City zieht aufs Land und verliebt sich in einen Mann, der auf der Farm seiner Familie arbeitet\"\n",
    "\n",
    "body_query = json.dumps({\n",
    "        \"inputText\": text_query\n",
    "})\n",
    "\n",
    "result_query = bedrock_runtime.invoke_model(body=body_query, accept=\"application/json\", contentType=\"application/json\", modelId=\"amazon.titan-embed-text-v1\")\n",
    "\n",
    "response_query = json.loads(result_query['body'].read())\n",
    "embedding_query = response_query.get(\"embedding\")\n",
    "\n",
    "#print(embedding_query)\n",
    "\n",
    "query={\n",
    "    \"query\": {\n",
    "        \"knn\": {\n",
    "            \"overview_vector\":{\n",
    "                \"vector\":embedding_query,\n",
    "                \"k\":10\n",
    "            }\n",
    "        }\n",
    "    }\n",
    "}\n",
    "\n",
    "res = aos_client.search(index=\"knn_demo\", \n",
    "                       body=query,\n",
    "                       stored_fields=[\"title\",\"year\",\"overview\"])\n",
    "print(\"Got %d Hits:\" % res['hits']['total']['value'])\n",
    "\n",
    "query_result=[]\n",
    "for hit in res['hits']['hits']:\n",
    "    row=[hit['_score'],hit['fields']['title'][0],hit['fields']['overview'][0]]\n",
    "    query_result.append(row)\n",
    "\n",
    "df = pd.DataFrame(query_result, columns=['score','title','overview'])\n",
    "display(df)"
   ]
  },
  {
   "cell_type": "code",
   "execution_count": null,
   "metadata": {},
   "outputs": [],
   "source": []
  }
 ],
 "metadata": {
  "kernelspec": {
   "display_name": "conda_python3",
   "language": "python",
   "name": "conda_python3"
  },
  "language_info": {
   "codemirror_mode": {
    "name": "ipython",
    "version": 3
   },
   "file_extension": ".py",
   "mimetype": "text/x-python",
   "name": "python",
   "nbconvert_exporter": "python",
   "pygments_lexer": "ipython3",
   "version": "3.10.13"
  }
 },
 "nbformat": 4,
 "nbformat_minor": 2
}
